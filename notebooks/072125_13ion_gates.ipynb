{
 "cells": [
  {
   "cell_type": "code",
   "execution_count": 1,
   "id": "873c159d",
   "metadata": {},
   "outputs": [],
   "source": [
    "# Import GoldUtilities\n",
    "push!(LOAD_PATH, joinpath(@__DIR__, \"..\", \"scripts\"))\n",
    "using GoldUtilities\n",
    "import GoldUtilities.Loader as loader"
   ]
  },
  {
   "cell_type": "code",
   "execution_count": 3,
   "id": "b71a13b0",
   "metadata": {},
   "outputs": [
    {
     "name": "stderr",
     "output_type": "stream",
     "text": [
      "\u001b[32m\u001b[1m    Updating\u001b[22m\u001b[39m git-repo `https://github.com/euriqa-brassboard/MSSim.jl`\n",
      "\u001b[32m\u001b[1m   Resolving\u001b[22m\u001b[39m package versions...\n",
      "\u001b[32m\u001b[1m  No Changes\u001b[22m\u001b[39m to `~/.julia/environments/v1.11/Project.toml`\n",
      "\u001b[32m\u001b[1m  No Changes\u001b[22m\u001b[39m to `~/.julia/environments/v1.11/Manifest.toml`\n"
     ]
    },
    {
     "data": {
      "text/plain": [
       "MSSim.Sequence"
      ]
     },
     "metadata": {},
     "output_type": "display_data"
    }
   ],
   "source": [
    "# Add the MSSim package\n",
    "using Pkg\n",
    "Pkg.add(url=\"https://github.com/euriqa-brassboard/MSSim.jl\")\n",
    "using MSSim\n",
    "const Opts = MSSim.Optimizers\n",
    "const SS = MSSim.SegSeq\n",
    "const SL = MSSim.SymLinear\n",
    "const Seq = MSSim.Sequence"
   ]
  },
  {
   "cell_type": "code",
   "execution_count": 2,
   "id": "82cfd879",
   "metadata": {},
   "outputs": [
    {
     "data": {
      "text/plain": [
       "GoldUtilities.Loader.GoldParams([2.29306, 2.31375, 2.33556, 2.35784, 2.3805, 2.40237, 2.42394, 2.44446, 2.46356, 2.4808, 2.49555, 2.50966, 2.51611], [0.12582898125060124, 0.1254757153730443, 0.1250569316248486, 0.12461075061627393, 0.12415467122300929, 0.12370104825133979, 0.12325955010900741, 0.12283842408236283, 0.12244532009242795, 0.12208804746084248, 0.12177563418463196, 0.12151470773707744, 0.1213753723354335], [0.002163619698947626 -0.019894333993010195 … -0.019894333993005258 0.0021636196989478743; 0.0071396181636678106 -0.05753283102846898 … 0.05753283102846495 -0.007139618163669534; … ; 0.42615110225953595 0.36754442103650975 … -0.36754442103645346 -0.4261511022594881; 0.2773500981126128 0.2773500981125969 … 0.27735009811265454 0.27735009811265965], Dict(\"x1\" => 0.0, \"x4\" => 0.00131, \"x2\" => 0.0124, \"qzy\" => 0.12, \"dy\" => 71.0, \"qzz\" => 0.85, \"x3\" => 0.0))"
      ]
     },
     "metadata": {},
     "output_type": "display_data"
    }
   ],
   "source": [
    "params = loader.GoldParams(\"../system params/072125_goldparams_13ions.json\")"
   ]
  },
  {
   "cell_type": "code",
   "execution_count": null,
   "id": "e8852f1e",
   "metadata": {},
   "outputs": [
    {
     "name": "stderr",
     "output_type": "stream",
     "text": [
      "WARNING: redefinition of constant Main.modes. This may fail, cause incorrect answers, or produce other errors.\n"
     ]
    }
   ],
   "source": [
    "# Construct modes matrtix using system parameters\n",
    "const modes = Seq.Modes()\n",
    "const ion1 = 2\n",
    "const ion2 = 6\n",
    "for i in 1:13\n",
    "    push!(modes, 2π * params.radial_modes[i], params.participation_factors[i, ion1] * params.participation_factors[i, ion2] * params.etas[i]^2)\n",
    "end"
   ]
  },
  {
   "cell_type": "code",
   "execution_count": null,
   "id": "e7d60822",
   "metadata": {},
   "outputs": [
    {
     "data": {
      "text/plain": [
       "blackman_start_end (generic function with 1 method)"
      ]
     },
     "metadata": {},
     "output_type": "display_data"
    }
   ],
   "source": [
    "# Function to give a balckman amplitude profile\n",
    "function blackman_start_end(x)\n",
    "    if -0.5 <= x <= 0.5\n",
    "        return 1.0\n",
    "    elseif x < 0\n",
    "        x = (x + 0.5) * 2\n",
    "    else\n",
    "        x = (x - 0.5) * 2\n",
    "    end\n",
    "    return 0.42 + 0.5 * cospi(x) + 0.08 * cospi(2 * x)\n",
    "end"
   ]
  },
  {
   "cell_type": "code",
   "execution_count": 7,
   "id": "552a7612",
   "metadata": {},
   "outputs": [],
   "source": [
    "const nseg = 120\n",
    "const buf_opt = SL.ComputeBuffer{nseg,Float64}(Val(SS.mask_allδ), Val(SS.mask_allδ));\n",
    "const buf_plot = SL.ComputeBuffer{nseg,Float64}(Val(SS.mask_full), Val(SS.mask_full));"
   ]
  },
  {
   "cell_type": "code",
   "execution_count": 8,
   "id": "cf4bc68d",
   "metadata": {},
   "outputs": [],
   "source": [
    "function _objfunc(vals)\n",
    "    dis = vals[1]\n",
    "    disδ = vals[2]\n",
    "    area = vals[3]\n",
    "    areaδ = vals[4]\n",
    "    τ = vals[5]\n",
    "\n",
    "    return 5 * dis + disδ / 100 + (abs(area) - π / 2)^2 * 100 + (areaδ / 1e4)^2\n",
    "end\n",
    "const objfunc = Opts.autodiff(_objfunc);"
   ]
  },
  {
   "cell_type": "code",
   "execution_count": 9,
   "id": "ab29923a",
   "metadata": {},
   "outputs": [],
   "source": [
    "const nlmodel = Seq.Objective(SL.pmask_full,\n",
    "                              ((:dis2, 0), (:disδ2, 0), (:area, 0),\n",
    "                               (:areaδ, 0), (:τ, 0)),\n",
    "                              objfunc, modes, buf_opt,\n",
    "                              freq=Seq.FreqSpec(true, sym=false),\n",
    "                              amp=Seq.AmpSpec(cb=blackman_start_end));"
   ]
  },
  {
   "cell_type": "code",
   "execution_count": null,
   "id": "ab1fe666",
   "metadata": {},
   "outputs": [
    {
     "ename": "Base.Meta.ParseError",
     "evalue": "ParseError:\n# Error @ /home/bahaa/Documents/WS/GoldGates.jl/notebooks/jl_notebook_cell_df34fa98e69747e1a8f8a730347b8e2f_X12sZmlsZQ==.jl:6:54\nfor ω in nlmodel.param.ωs\n    Opts.set_bound!(tracker, ω, 2π * 2.39, 2π * 2.52)\n#                                                    └ ── Expected `end`",
     "output_type": "error",
     "traceback": [
      "ParseError:\n",
      "# Error @ /home/bahaa/Documents/WS/GoldGates.jl/notebooks/jl_notebook_cell_df34fa98e69747e1a8f8a730347b8e2f_X12sZmlsZQ==.jl:6:54\n",
      "for ω in nlmodel.param.ωs\n",
      "    Opts.set_bound!(tracker, ω, 2π * 2.39, 2π * 2.52)\n",
      "#                                                    └ ── Expected `end`\n",
      "\n",
      "Stacktrace:\n",
      " [1] top-level scope\n",
      "   @ ~/Documents/WS/GoldGates.jl/notebooks/jl_notebook_cell_df34fa98e69747e1a8f8a730347b8e2f_X12sZmlsZQ==.jl:6"
     ]
    }
   ],
   "source": [
    "const nargs = Seq.nparams(nlmodel)\n",
    "const tracker = Opts.NLVarTracker(nargs)\n",
    "Opts.set_bound!(tracker, nlmodel.param.τ, 0.1, 4)\n",
    "Opts.set_bound!(tracker, nlmodel.param.Ωs[1], 0.1, 0.2)\n",
    "for ω in nlmodel.param.ωs\n",
    "    Opts.set_bound!(tracker, ω, 2π * 2.39, 2π * 2.52)\n",
    "end"
   ]
  },
  {
   "cell_type": "code",
   "execution_count": 11,
   "id": "5f688016",
   "metadata": {},
   "outputs": [
    {
     "ename": "UndefVarError",
     "evalue": "UndefVarError: `NLopt` not defined in `Main`\nSuggestion: check for spelling errors or missing imports.\nHint: NLopt is loaded but not imported in the active module Main.",
     "output_type": "error",
     "traceback": [
      "UndefVarError: `NLopt` not defined in `Main`\n",
      "Suggestion: check for spelling errors or missing imports.\n",
      "Hint: NLopt is loaded but not imported in the active module Main.\n",
      "\n",
      "Stacktrace:\n",
      " [1] top-level scope\n",
      "   @ ~/Documents/WS/GoldGates.jl/notebooks/jl_notebook_cell_df34fa98e69747e1a8f8a730347b8e2f_X13sZmlsZQ==.jl:2"
     ]
    }
   ],
   "source": [
    "# const opt = NLopt.Opt(:LD_SLSQP, nargs)\n",
    "const opt = NLopt.Opt(:LD_LBFGS, nargs)\n",
    "# NLopt.xtol_rel!(opt, 1e-5)\n",
    "# NLopt.ftol_rel!(opt, 1e-5)\n",
    "NLopt.min_objective!(opt, nlmodel)\n",
    "NLopt.lower_bounds!(opt, Opts.lower_bounds(tracker))\n",
    "NLopt.upper_bounds!(opt, Opts.upper_bounds(tracker))\n",
    "NLopt.maxtime!(opt, 10)"
   ]
  },
  {
   "cell_type": "code",
   "execution_count": null,
   "id": "6358254f",
   "metadata": {},
   "outputs": [],
   "source": [
    "best_obj = 100.0\n",
    "best_params = nothing\n",
    "@time for i in 1:50\n",
    "    global best_obj, best_params\n",
    "    obj, params, ret = @time NLopt.optimize(opt, Opts.init_vars!(tracker))\n",
    "    if getfield(NLopt, ret) < 0\n",
    "        continue\n",
    "    end\n",
    "    if obj < best_obj\n",
    "        best_obj = obj\n",
    "        area = nlmodel(Val((:area, 0)), params)\n",
    "        best_status = (\n",
    "            obj = obj,\n",
    "            dis = nlmodel(Val((:dis2, 0)), params),\n",
    "            disδ = nlmodel(Val((:disδ2, 0)), params),\n",
    "            area = area,\n",
    "            areaε = abs(area) - π / 2,\n",
    "            areaδ = nlmodel(Val((:areaδ, 0)), params),\n",
    "            total_t = nlmodel(Val((:τ, 0)), params),\n",
    "            Ωmax = params[nlmodel.param.Ωs[1]],\n",
    "        )\n",
    "        println(best_status)\n",
    "        best_params = params\n",
    "    end\n",
    "end"
   ]
  }
 ],
 "metadata": {
  "kernelspec": {
   "display_name": "Julia 1.11.6",
   "language": "julia",
   "name": "julia-1.11"
  },
  "language_info": {
   "file_extension": ".jl",
   "mimetype": "application/julia",
   "name": "julia",
   "version": "1.11.6"
  }
 },
 "nbformat": 4,
 "nbformat_minor": 5
}
